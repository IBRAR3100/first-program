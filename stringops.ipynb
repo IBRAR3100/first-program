{
 "cells": [
  {
   "cell_type": "markdown",
   "id": "b1192ec6",
   "metadata": {},
   "source": [
    "joining string means combining two or more string into one"
   ]
  },
  {
   "cell_type": "code",
   "execution_count": 3,
   "id": "f67ccba6",
   "metadata": {},
   "outputs": [
    {
     "name": "stdout",
     "output_type": "stream",
     "text": [
      "ibrar muhmmad awan\n"
     ]
    }
   ],
   "source": [
    "first_name=\"ibrar\"\n",
    "mid_name=\"muhmmad\"\n",
    "last_name=\"awan\"\n",
    "full_name=first_name+\" \"+mid_name+\" \"+last_name\n",
    "print(full_name)\n"
   ]
  },
  {
   "cell_type": "markdown",
   "id": "e8771ffd",
   "metadata": {},
   "source": [
    "repeating astring means multiplying a string to repeat it multiple times "
   ]
  },
  {
   "cell_type": "code",
   "execution_count": 4,
   "id": "4789703f",
   "metadata": {},
   "outputs": [
    {
     "name": "stdout",
     "output_type": "stream",
     "text": [
      "hahahahaha\n",
      "hehehehehehehehe\n"
     ]
    }
   ],
   "source": [
    "laugh=\"ha\"\n",
    "laughing=\"he\"\n",
    "print(laugh*5)\n",
    "print(laughing*8)"
   ]
  },
  {
   "cell_type": "markdown",
   "id": "47f5daa1",
   "metadata": {},
   "source": [
    "string length means counting the number of characters in a string including space and punctation"
   ]
  },
  {
   "cell_type": "code",
   "execution_count": 1,
   "id": "7ac944af",
   "metadata": {},
   "outputs": [
    {
     "name": "stdout",
     "output_type": "stream",
     "text": [
      "6\n",
      "12\n"
     ]
    }
   ],
   "source": [
    "word=\"hello!\"\n",
    "word2=\"sports games\"\n",
    "print(len(word))\n",
    "print(len(word2))"
   ]
  },
  {
   "cell_type": "markdown",
   "id": "fab9a7d6",
   "metadata": {},
   "source": [
    "pick a letter by its spots:means aget a letter by its number in the word "
   ]
  },
  {
   "cell_type": "code",
   "execution_count": 3,
   "id": "2cbf48a7",
   "metadata": {},
   "outputs": [
    {
     "name": "stdout",
     "output_type": "stream",
     "text": [
      "l\n",
      "h\n"
     ]
    }
   ],
   "source": [
    "greeting=\"hello\"\n",
    "print(greeting[2])\n",
    "print(greeting[-5])"
   ]
  },
  {
   "cell_type": "markdown",
   "id": "d95be311",
   "metadata": {},
   "source": [
    "Slicing strat is included but end is not included"
   ]
  },
  {
   "cell_type": "code",
   "execution_count": 7,
   "id": "96988624",
   "metadata": {},
   "outputs": [
    {
     "name": "stdout",
     "output_type": "stream",
     "text": [
      "beg\n",
      "foot\n"
     ]
    }
   ],
   "source": [
    "text=\"beginner\"\n",
    "slice1=text[0:3]\n",
    "print(slice1)\n",
    "sports2=\"football\"\n",
    "print(sports2[0:4])"
   ]
  },
  {
   "cell_type": "markdown",
   "id": "1fac6657",
   "metadata": {},
   "source": [
    "change letter case in python we can change the case of letter using simple string method \n"
   ]
  },
  {
   "cell_type": "code",
   "execution_count": 8,
   "id": "c7f8ea05",
   "metadata": {},
   "outputs": [
    {
     "name": "stdout",
     "output_type": "stream",
     "text": [
      "MUSA IBRAR AWAN \n",
      "musa ibrar awan \n",
      "Musa ibrar awan \n",
      "MUSA IBRAR AWAN \n"
     ]
    }
   ],
   "source": [
    "name=\"musa ibrar awan \"\n",
    "print(name.upper())\n",
    "print(name.lower())\n",
    "print(name.capitalize())\n",
    "print(name.swapcase())"
   ]
  },
  {
   "cell_type": "markdown",
   "id": "384b52ae",
   "metadata": {},
   "source": [
    "addition"
   ]
  },
  {
   "cell_type": "code",
   "execution_count": 2,
   "id": "412d342c",
   "metadata": {},
   "outputs": [
    {
     "name": "stdout",
     "output_type": "stream",
     "text": [
      "10 + 3= 13\n"
     ]
    }
   ],
   "source": [
    "a=10\n",
    "b=3\n",
    "result=a+b\n",
    "print(f\"{a} + {b}= {result}\")\n"
   ]
  },
  {
   "cell_type": "markdown",
   "id": "d1d71997",
   "metadata": {},
   "source": [
    "subtraction\n"
   ]
  },
  {
   "cell_type": "code",
   "execution_count": 4,
   "id": "bca0bf41",
   "metadata": {},
   "outputs": [
    {
     "name": "stdout",
     "output_type": "stream",
     "text": [
      "10 - 3 = 7\n"
     ]
    }
   ],
   "source": [
    "a=10\n",
    "b=3\n",
    "result=a-b\n",
    "print(f\"{a} - {b} = {result}\")"
   ]
  },
  {
   "cell_type": "markdown",
   "id": "4c36bb45",
   "metadata": {},
   "source": [
    "MULTIPLICATION"
   ]
  },
  {
   "cell_type": "code",
   "execution_count": 5,
   "id": "0508afdd",
   "metadata": {},
   "outputs": [
    {
     "name": "stdout",
     "output_type": "stream",
     "text": [
      "10 * 3 = 30\n"
     ]
    }
   ],
   "source": [
    "a=10\n",
    "b=3\n",
    "result=a*b\n",
    "print(f\"{a} * {b} = {result}\")"
   ]
  },
  {
   "cell_type": "markdown",
   "id": "0a9dd178",
   "metadata": {},
   "source": [
    "DIVISION"
   ]
  },
  {
   "cell_type": "code",
   "execution_count": 6,
   "id": "e65fe829",
   "metadata": {},
   "outputs": [
    {
     "name": "stdout",
     "output_type": "stream",
     "text": [
      "10 / 3 = 3.3333333333333335\n"
     ]
    }
   ],
   "source": [
    "a= 10\n",
    "b= 3\n",
    "result= a / b\n",
    "print(f\"{a} / {b} = {result}\")"
   ]
  },
  {
   "cell_type": "code",
   "execution_count": null,
   "id": "de65e040",
   "metadata": {},
   "outputs": [],
   "source": []
  },
  {
   "cell_type": "markdown",
   "id": "15008db6",
   "metadata": {},
   "source": [
    "FLOOR DIVISION // RESULT TO THE NEARSET WHOLE NUMBER "
   ]
  },
  {
   "cell_type": "code",
   "execution_count": 8,
   "id": "7d956dd8",
   "metadata": {},
   "outputs": [
    {
     "name": "stdout",
     "output_type": "stream",
     "text": [
      "10 // 3 = 3\n"
     ]
    }
   ],
   "source": [
    "a= 10\n",
    "b= 3\n",
    "result= a // b\n",
    "print(f\"{a} // {b} = {result}\")\n",
    "\n"
   ]
  },
  {
   "cell_type": "markdown",
   "id": "061b739d",
   "metadata": {},
   "source": [
    "EXPONENT(POWER)"
   ]
  },
  {
   "cell_type": "code",
   "execution_count": 1,
   "id": "c2f85956",
   "metadata": {},
   "outputs": [
    {
     "name": "stdout",
     "output_type": "stream",
     "text": [
      "2 ** 3 = 8\n"
     ]
    }
   ],
   "source": [
    "a= 2\n",
    "b= 3\n",
    "result= a ** b\n",
    "print(f\"{a} ** {b} = {result}\")"
   ]
  },
  {
   "cell_type": "markdown",
   "id": "2f97e6bf",
   "metadata": {},
   "source": [
    "PERCENTAGE \n"
   ]
  },
  {
   "cell_type": "code",
   "execution_count": 4,
   "id": "eb74821f",
   "metadata": {},
   "outputs": [
    {
     "name": "stdout",
     "output_type": "stream",
     "text": [
      "50 % 3 = 2\n"
     ]
    }
   ],
   "source": [
    "a= 50\n",
    "b= 3\n",
    "result= a % b \n",
    "print(f\"{a} % {b} = {result}\")"
   ]
  }
 ],
 "metadata": {
  "kernelspec": {
   "display_name": "base",
   "language": "python",
   "name": "python3"
  },
  "language_info": {
   "codemirror_mode": {
    "name": "ipython",
    "version": 3
   },
   "file_extension": ".py",
   "mimetype": "text/x-python",
   "name": "python",
   "nbconvert_exporter": "python",
   "pygments_lexer": "ipython3",
   "version": "3.12.7"
  }
 },
 "nbformat": 4,
 "nbformat_minor": 5
}
