{
 "cells": [
  {
   "cell_type": "markdown",
   "id": "b1192ec6",
   "metadata": {},
   "source": [
    "joining string means combining two or more string into one"
   ]
  },
  {
   "cell_type": "code",
   "execution_count": 3,
   "id": "f67ccba6",
   "metadata": {},
   "outputs": [
    {
     "name": "stdout",
     "output_type": "stream",
     "text": [
      "ibrar muhmmad awan\n"
     ]
    }
   ],
   "source": [
    "first_name=\"ibrar\"\n",
    "mid_name=\"muhmmad\"\n",
    "last_name=\"awan\"\n",
    "full_name=first_name+\" \"+mid_name+\" \"+last_name\n",
    "print(full_name)\n"
   ]
  },
  {
   "cell_type": "markdown",
   "id": "e8771ffd",
   "metadata": {},
   "source": [
    "repeating astring means multiplying a string to repeat it multiple times "
   ]
  },
  {
   "cell_type": "code",
   "execution_count": 4,
   "id": "4789703f",
   "metadata": {},
   "outputs": [
    {
     "name": "stdout",
     "output_type": "stream",
     "text": [
      "hahahahaha\n",
      "hehehehehehehehe\n"
     ]
    }
   ],
   "source": [
    "laugh=\"ha\"\n",
    "laughing=\"he\"\n",
    "print(laugh*5)\n",
    "print(laughing*8)"
   ]
  },
  {
   "cell_type": "markdown",
   "id": "47f5daa1",
   "metadata": {},
   "source": [
    "string length means counting the number of characters in a string including space and punctation"
   ]
  },
  {
   "cell_type": "code",
   "execution_count": 1,
   "id": "7ac944af",
   "metadata": {},
   "outputs": [
    {
     "name": "stdout",
     "output_type": "stream",
     "text": [
      "6\n",
      "12\n"
     ]
    }
   ],
   "source": [
    "word=\"hello!\"\n",
    "word2=\"sports games\"\n",
    "print(len(word))\n",
    "print(len(word2))"
   ]
  },
  {
   "cell_type": "markdown",
   "id": "fab9a7d6",
   "metadata": {},
   "source": [
    "pick a letter by its spots:means aget a letter by its number in the word "
   ]
  },
  {
   "cell_type": "code",
   "execution_count": 3,
   "id": "2cbf48a7",
   "metadata": {},
   "outputs": [
    {
     "name": "stdout",
     "output_type": "stream",
     "text": [
      "l\n",
      "h\n"
     ]
    }
   ],
   "source": [
    "greeting=\"hello\"\n",
    "print(greeting[2])\n",
    "print(greeting[-5])"
   ]
  },
  {
   "cell_type": "markdown",
   "id": "d95be311",
   "metadata": {},
   "source": [
    "Slicing strat is included but end is not included"
   ]
  },
  {
   "cell_type": "code",
   "execution_count": 7,
   "id": "96988624",
   "metadata": {},
   "outputs": [
    {
     "name": "stdout",
     "output_type": "stream",
     "text": [
      "beg\n",
      "foot\n"
     ]
    }
   ],
   "source": [
    "text=\"beginner\"\n",
    "slice1=text[0:3]\n",
    "print(slice1)\n",
    "sports2=\"football\"\n",
    "print(sports2[0:4])"
   ]
  },
  {
   "cell_type": "markdown",
   "id": "1fac6657",
   "metadata": {},
   "source": [
    "change letter case in python we can change the case of letter using simple string method \n"
   ]
  },
  {
   "cell_type": "code",
   "execution_count": 8,
   "id": "c7f8ea05",
   "metadata": {},
   "outputs": [
    {
     "name": "stdout",
     "output_type": "stream",
     "text": [
      "MUSA IBRAR AWAN \n",
      "musa ibrar awan \n",
      "Musa ibrar awan \n",
      "MUSA IBRAR AWAN \n"
     ]
    }
   ],
   "source": [
    "name=\"musa ibrar awan \"\n",
    "print(name.upper())\n",
    "print(name.lower())\n",
    "print(name.capitalize())\n",
    "print(name.swapcase())"
   ]
  },
  {
   "cell_type": "markdown",
   "id": "384b52ae",
   "metadata": {},
   "source": [
    "addition"
   ]
  },
  {
   "cell_type": "code",
   "execution_count": 2,
   "id": "412d342c",
   "metadata": {},
   "outputs": [
    {
     "name": "stdout",
     "output_type": "stream",
     "text": [
      "10 + 3= 13\n"
     ]
    }
   ],
   "source": [
    "a=10\n",
    "b=3\n",
    "result=a+b\n",
    "print(f\"{a} + {b}= {result}\")\n"
   ]
  },
  {
   "cell_type": "markdown",
   "id": "d1d71997",
   "metadata": {},
   "source": [
    "subtraction\n"
   ]
  },
  {
   "cell_type": "code",
   "execution_count": 4,
   "id": "bca0bf41",
   "metadata": {},
   "outputs": [
    {
     "name": "stdout",
     "output_type": "stream",
     "text": [
      "10 - 3 = 7\n"
     ]
    }
   ],
   "source": [
    "a=10\n",
    "b=3\n",
    "result=a-b\n",
    "print(f\"{a} - {b} = {result}\")"
   ]
  },
  {
   "cell_type": "markdown",
   "id": "4c36bb45",
   "metadata": {},
   "source": [
    "MULTIPLICATION"
   ]
  },
  {
   "cell_type": "code",
   "execution_count": 5,
   "id": "0508afdd",
   "metadata": {},
   "outputs": [
    {
     "name": "stdout",
     "output_type": "stream",
     "text": [
      "10 * 3 = 30\n"
     ]
    }
   ],
   "source": [
    "a=10\n",
    "b=3\n",
    "result=a*b\n",
    "print(f\"{a} * {b} = {result}\")"
   ]
  },
  {
   "cell_type": "markdown",
   "id": "0a9dd178",
   "metadata": {},
   "source": [
    "DIVISION"
   ]
  },
  {
   "cell_type": "code",
   "execution_count": 6,
   "id": "e65fe829",
   "metadata": {},
   "outputs": [
    {
     "name": "stdout",
     "output_type": "stream",
     "text": [
      "10 / 3 = 3.3333333333333335\n"
     ]
    }
   ],
   "source": [
    "a= 10\n",
    "b= 3\n",
    "result= a / b\n",
    "print(f\"{a} / {b} = {result}\")"
   ]
  },
  {
   "cell_type": "markdown",
   "id": "15008db6",
   "metadata": {},
   "source": [
    "FLOOR DIVISION // RESULT TO THE NEARSET WHOLE NUMBER "
   ]
  },
  {
   "cell_type": "code",
   "execution_count": 8,
   "id": "7d956dd8",
   "metadata": {},
   "outputs": [
    {
     "name": "stdout",
     "output_type": "stream",
     "text": [
      "10 // 3 = 3\n"
     ]
    }
   ],
   "source": [
    "a= 10\n",
    "b= 3\n",
    "result= a // b\n",
    "print(f\"{a} // {b} = {result}\")\n",
    "\n"
   ]
  },
  {
   "cell_type": "markdown",
   "id": "061b739d",
   "metadata": {},
   "source": [
    "EXPONENT(POWER)"
   ]
  },
  {
   "cell_type": "code",
   "execution_count": 1,
   "id": "c2f85956",
   "metadata": {},
   "outputs": [
    {
     "name": "stdout",
     "output_type": "stream",
     "text": [
      "2 ** 3 = 8\n"
     ]
    }
   ],
   "source": [
    "a= 2\n",
    "b= 3\n",
    "result= a ** b\n",
    "print(f\"{a} ** {b} = {result}\")"
   ]
  },
  {
   "cell_type": "markdown",
   "id": "2f97e6bf",
   "metadata": {},
   "source": [
    "PERCENTAGE \n"
   ]
  },
  {
   "cell_type": "code",
   "execution_count": 4,
   "id": "eb74821f",
   "metadata": {},
   "outputs": [
    {
     "name": "stdout",
     "output_type": "stream",
     "text": [
      "50 % 3 = 2\n"
     ]
    }
   ],
   "source": [
    "a= 50\n",
    "b= 3\n",
    "result= a % b \n",
    "print(f\"{a} % {b} = {result}\")"
   ]
  },
  {
   "cell_type": "markdown",
   "id": "5df5d818",
   "metadata": {},
   "source": [
    "if...elif...else"
   ]
  },
  {
   "cell_type": "code",
   "execution_count": null,
   "id": "32081cc7",
   "metadata": {},
   "outputs": [
    {
     "name": "stdout",
     "output_type": "stream",
     "text": [
      "yor are an adult\n"
     ]
    }
   ],
   "source": [
    "age=10\n",
    "\n",
    "if age >= 10:\n",
    "   #  print(\"yor are an adult\")\n",
    "    print(\"age is greater than 10 or equal to 10\")"
   ]
  },
  {
   "cell_type": "code",
   "execution_count": 2,
   "id": "ecf52a84",
   "metadata": {},
   "outputs": [
    {
     "name": "stdout",
     "output_type": "stream",
     "text": [
      "you are young man\n",
      "you are not teenager\n"
     ]
    }
   ],
   "source": [
    "age = 18\n",
    "if age >= 16:\n",
    "    print(\"you are young man\")\n",
    "    print(\"you are not teenager\")"
   ]
  },
  {
   "cell_type": "code",
   "execution_count": 3,
   "id": "11987d44",
   "metadata": {},
   "outputs": [
    {
     "name": "stdout",
     "output_type": "stream",
     "text": [
      "grade: D\n"
     ]
    }
   ],
   "source": [
    "marks = 65\n",
    "if marks >= 90:\n",
    "    print(\"grade: A\")\n",
    "elif marks >= 80:\n",
    "    print(\"grade: B\")\n",
    "elif marks >= 70:\n",
    "    print(\"grade: c\")\n",
    "elif marks >= 60:\n",
    "    print(\"grade: D\")\n",
    "else:\n",
    "    print(\"grade: f (fail)\")"
   ]
  },
  {
   "cell_type": "markdown",
   "id": "f8ea81ec",
   "metadata": {},
   "source": [
    "LOOP IS REPEAT CODE MULTIPLE TIMES \n",
    "THREE TYPES OF LOOP #FOOR LOOP(specific number )\n",
    "WHILE LOOP(as long as condition is true )\n",
    "NEASTED LOOP "
   ]
  },
  {
   "cell_type": "code",
   "execution_count": 4,
   "id": "527a2084",
   "metadata": {},
   "outputs": [
    {
     "name": "stdout",
     "output_type": "stream",
     "text": [
      "1\n",
      "2\n",
      "3\n",
      "4\n",
      "5\n"
     ]
    }
   ],
   "source": [
    "for i in range(1, 6):\n",
    "    print(i)"
   ]
  },
  {
   "cell_type": "markdown",
   "id": "bf1b02cc",
   "metadata": {},
   "source": [
    "while loop repeats a block of code as long as condition is true "
   ]
  },
  {
   "cell_type": "code",
   "execution_count": 5,
   "id": "42d147a8",
   "metadata": {},
   "outputs": [
    {
     "name": "stdout",
     "output_type": "stream",
     "text": [
      "1\n",
      "2\n",
      "3\n",
      "4\n",
      "5\n"
     ]
    }
   ],
   "source": [
    "i=1\n",
    "while i <= 5:\n",
    "    print(i)\n",
    "    i += 1"
   ]
  },
  {
   "cell_type": "markdown",
   "id": "1bf02b4d",
   "metadata": {},
   "source": [
    "nested loops: a loop inside another loop "
   ]
  },
  {
   "cell_type": "code",
   "execution_count": null,
   "id": "8f7f5f6b",
   "metadata": {},
   "outputs": [
    {
     "name": "stdout",
     "output_type": "stream",
     "text": [
      "* \n",
      "* \n",
      "* \n",
      "* \n",
      "* \n",
      "* \n",
      "* \n",
      "* \n",
      "* \n"
     ]
    }
   ],
   "source": [
    "for i in range(3):\n",
    "    for j in range(3):\n",
    "        print(\"*\", end=\" \")\n",
    "        print()"
   ]
  },
  {
   "cell_type": "code",
   "execution_count": 8,
   "id": "090c069a",
   "metadata": {},
   "outputs": [
    {
     "name": "stdout",
     "output_type": "stream",
     "text": [
      "2 \n",
      "3 \n",
      "4 \n",
      "5 \n",
      "6 \n",
      "3 \n",
      "4 \n",
      "5 \n",
      "6 \n",
      "7 \n",
      "4 \n",
      "5 \n",
      "6 \n",
      "7 \n",
      "8 \n"
     ]
    }
   ],
   "source": [
    "for i in range(1, 4):\n",
    "    for j in range(1, 6):\n",
    "        print(i + j, end=\" \")\n",
    "        print()"
   ]
  },
  {
   "cell_type": "code",
   "execution_count": null,
   "id": "abe10e05",
   "metadata": {},
   "outputs": [],
   "source": []
  },
  {
   "cell_type": "markdown",
   "id": "f3ca528e",
   "metadata": {},
   "source": [
    "function\n"
   ]
  },
  {
   "cell_type": "code",
   "execution_count": 9,
   "id": "943ecd02",
   "metadata": {},
   "outputs": [
    {
     "name": "stdout",
     "output_type": "stream",
     "text": [
      "hello, ali! nice to meet you.\n"
     ]
    }
   ],
   "source": [
    "def greet_user(name):\n",
    "    print(f\"hello, {name}! nice to meet you.\")\n",
    "greet_user(\"ali\")"
   ]
  },
  {
   "cell_type": "code",
   "execution_count": 10,
   "id": "5fdc635b",
   "metadata": {},
   "outputs": [
    {
     "name": "stdout",
     "output_type": "stream",
     "text": [
      "15\n"
     ]
    }
   ],
   "source": [
    "def multiply(a,b):\n",
    "    return a * b\n",
    "result = multiply(5, 3)\n",
    "print(result)"
   ]
  },
  {
   "cell_type": "markdown",
   "id": "e83a3411",
   "metadata": {},
   "source": [
    "MODULE IS A FILE CONTAINING PYTHON CODE YOU CAN IMPORT AND REUSE IN OTHER PYTHON FILE"
   ]
  },
  {
   "cell_type": "code",
   "execution_count": 1,
   "id": "f39d6c68",
   "metadata": {},
   "outputs": [
    {
     "name": "stdout",
     "output_type": "stream",
     "text": [
      "folder musaphotos has been created\n"
     ]
    }
   ],
   "source": [
    "# example create a new file \n",
    "import os\n",
    "folder_name = \"musaphotos\"\n",
    "os.mkdir(folder_name)\n",
    "print(f\"folder {folder_name} has been created\")"
   ]
  },
  {
   "cell_type": "code",
   "execution_count": 2,
   "id": "96a33bfb",
   "metadata": {},
   "outputs": [
    {
     "name": "stdout",
     "output_type": "stream",
     "text": [
      "current working directory: c:\\Users\\khama\\OneDrive\\Desktop\\musa\n"
     ]
    }
   ],
   "source": [
    "# check current working directory\n",
    "current_directory = os.getcwd()\n",
    "print(\"current working directory:\", current_directory)"
   ]
  },
  {
   "cell_type": "markdown",
   "id": "7ff0aa61",
   "metadata": {},
   "source": [
    "math module "
   ]
  },
  {
   "cell_type": "code",
   "execution_count": null,
   "id": "f439f928",
   "metadata": {},
   "outputs": [
    {
     "name": "stdout",
     "output_type": "stream",
     "text": [
      "the qquare root of 49 is: 7.0\n"
     ]
    }
   ],
   "source": [
    "#squre root \n",
    "import math\n",
    "number = 49\n",
    "root = math.sqrt(number)\n",
    "print(f\"the qquare root of {number} is: {root}\")"
   ]
  },
  {
   "cell_type": "code",
   "execution_count": null,
   "id": "390c408c",
   "metadata": {},
   "outputs": [],
   "source": [
    "# example of cricle \n",
    "import math\n",
    "radius = 7\n",
    "area = math.pi * radius**2\n",
    "print(f\"the area of circle with radius {radius} is: {area}\")"
   ]
  }
 ],
 "metadata": {
  "kernelspec": {
   "display_name": "base",
   "language": "python",
   "name": "python3"
  },
  "language_info": {
   "codemirror_mode": {
    "name": "ipython",
    "version": 3
   },
   "file_extension": ".py",
   "mimetype": "text/x-python",
   "name": "python",
   "nbconvert_exporter": "python",
   "pygments_lexer": "ipython3",
   "version": "3.12.7"
  }
 },
 "nbformat": 4,
 "nbformat_minor": 5
}
